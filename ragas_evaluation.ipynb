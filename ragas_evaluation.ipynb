{
 "cells": [
  {
   "cell_type": "markdown",
   "metadata": {},
   "source": [
    "# Оценка работы RAG с помошью библиотеки ragas"
   ]
  },
  {
   "cell_type": "markdown",
   "metadata": {},
   "source": [
    "### Setup:\n",
    "\n",
    "1. В этом руководстве для выполнения некоторых метрик используется OpenAI, поэтому убедитесь, что ваш ключ OpenAI готов и доступен в вашей среде.\n",
    "2. Вставте Ваш ключ для OpenAI в вайл 'env.txt'\n",
    "3. Установите нужные библиотеки. Рекомендуется использовать изолированое пространство (virtual environment).\n",
    "    * pip install -r requirements.txt\n",
    "4. запускайте блокнот\n",
    "\n"
   ]
  },
  {
   "cell_type": "code",
   "execution_count": 1,
   "metadata": {},
   "outputs": [
    {
     "name": "stdout",
     "output_type": "stream",
     "text": [
      "OpenAI API Key successfully loaded\n"
     ]
    }
   ],
   "source": [
    "import os\n",
    "from dotenv import dotenv_values\n",
    "\n",
    "# Load environment variables from env.txt file\n",
    "env_vars = dotenv_values('env.txt')\n",
    "\n",
    "# Explicitly set the environment variables from the env.txt file to override the global variables if set\n",
    "for key, value in env_vars.items():\n",
    "    os.environ[key] = value\n",
    "\n",
    "# Verify the environment variables are set correctly\n",
    "if 'OPENAI_API_KEY' in os.environ:\n",
    "    print(f\"OpenAI API Key successfully loaded\")\n",
    "else:\n",
    "    print(\"Failed to load OpenAI API Key\")"
   ]
  },
  {
   "cell_type": "markdown",
   "metadata": {},
   "source": [
    "# Данные\n",
    "\n",
    "Создаём набор данных в нужном формате с нужными названиями столбцов"
   ]
  },
  {
   "cell_type": "code",
   "execution_count": 2,
   "metadata": {},
   "outputs": [],
   "source": [
    "from datasets import Dataset\n",
    "\n",
    "# NOTE: ragas documentation is not up to date (14.05.2024). The requred Dataset structure is:\n",
    "# Dataset.from_dict(\n",
    "#         {\n",
    "#             'question': list[str],\n",
    "#             'contexts': list[list[str]],\n",
    "#             'ground_truth': list[str],\n",
    "#             'answer': list[str]\n",
    "#         }\n",
    "#     )\n",
    "\n",
    "questions = [\n",
    "    \"чем представлены органические остатки?\", \n",
    "    \"что найдено в кремнистых сланцах железорудной формации Канады?\",\n",
    "]\n",
    "contexts = [\n",
    "    [\"В протерозойских отложениях органические остатки встречаются намного чаще, чем в архейских. Они представлены известковыми выделениями сине-зелёных водорослей, ходами червей, остатками кишечнополостных. Кроме известковых водорослей, к числу древнейших растительных остатков относятся скопления графито-углистого вещества, образовавшегося в результате разложения Corycium enigmaticum. В кремнистых сланцах железорудной формации Канады найдены нитевидные водоросли, грибные нити и формы, близкие современным кокколитофоридам. В железистых кварцитах Северной Америки и Сибири обнаружены железистые продукты жизнедеятельности бактерий.\"],\n",
    "    [\"В протерозойских отложениях органические остатки встречаются намного чаще, чем в архейских. Они представлены известковыми выделениями сине-зелёных водорослей, ходами червей, остатками кишечнополостных. Кроме известковых водорослей, к числу древнейших растительных остатков относятся скопления графито-углистого вещества, образовавшегося в результате разложения Corycium enigmaticum. В кремнистых сланцах железорудной формации Канады найдены нитевидные водоросли, грибные нити и формы, близкие современным кокколитофоридам. В железистых кварцитах Северной Америки и Сибири обнаружены железистые продукты жизнедеятельности бактерий.\"],\n",
    "]\n",
    "# expected answers\n",
    "ground_truths = [\n",
    "    \"известковыми выделениями сине-зелёных водорослей\",\n",
    "    \"нитевидные водоросли, грибные нити\",\n",
    "]\n",
    "# answers from your LLM\n",
    "answers = [\n",
    "    \"Органические остатки могут быть представлены различными способами, включая растения, животные, микроорганизмы, гумус и другие органические материалы.\",\n",
    "    \"В кремнистых сланцах железорудной формации Канады обычно находятся богатые железом рудные отложения.\",\n",
    "]"
   ]
  },
  {
   "cell_type": "code",
   "execution_count": 3,
   "metadata": {},
   "outputs": [],
   "source": [
    "my_dataset = Dataset.from_dict(\n",
    "    {\n",
    "        'question': questions,\n",
    "        'contexts': contexts,\n",
    "        'ground_truth': ground_truths,\n",
    "        'answer': answers,\n",
    "    }\n",
    ")"
   ]
  },
  {
   "cell_type": "markdown",
   "metadata": {},
   "source": [
    "# Метрики\n",
    "\n",
    "Ragas предоставляет несколько метрик для оценки различных аспектов ваших систем RAG:\n",
    "\n",
    "1. Ретривер: Предлагает **context_precision** и **context_recall**, которые измеряют производительность вашей системы извлечения.\n",
    "\n",
    "2. Генератор (LLM): Предоставляет метрику **faithfulness**, которая измеряет галлюцинации, и **answer_relevancy**, которая измеряет, насколько ответы соответствуют вопросу.\n",
    "\n",
    "В Ragas доступно множество других метрик, ознакомьтесь с руководством по метрикам, чтобы узнать больше.\n",
    "\n",
    "Теперь давайте импортируем эти метрики и разберемся, что они обозначают.\n"
   ]
  },
  {
   "cell_type": "code",
   "execution_count": 4,
   "metadata": {},
   "outputs": [],
   "source": [
    "from ragas.metrics import (\n",
    "    answer_relevancy,\n",
    "    faithfulness,\n",
    "    context_recall,\n",
    "    context_precision,\n",
    ")"
   ]
  },
  {
   "cell_type": "markdown",
   "metadata": {},
   "source": [
    "Здесь мы используем четыре метрики, но что они собой представляют?\n",
    "\n",
    "1. **Faithfulness (достоверность)** - измеряет фактическое соответствие ответа контексту, основанному на вопросе.\n",
    "\n",
    "2. **Context_precision (точность контекста)** - измеряет, насколько релевантен извлеченный контекст вопросу, передавая качество поискового конвейера.\n",
    "\n",
    "3. **Answer_relevancy  (релевантность ответа)** - измеряет, насколько ответ соответствует вопросу.\n",
    "\n",
    "4. **Context_recall** - измеряет способность ретривера извлекать всю необходимую информацию, требуемую для ответа на вопрос."
   ]
  },
  {
   "cell_type": "markdown",
   "metadata": {},
   "source": [
    "# Оценка"
   ]
  },
  {
   "cell_type": "code",
   "execution_count": 5,
   "metadata": {},
   "outputs": [
    {
     "data": {
      "application/vnd.jupyter.widget-view+json": {
       "model_id": "3d44eb556cb143fc87c90d8353509990",
       "version_major": 2,
       "version_minor": 0
      },
      "text/plain": [
       "Evaluating:   0%|          | 0/8 [00:00<?, ?it/s]"
      ]
     },
     "metadata": {},
     "output_type": "display_data"
    },
    {
     "data": {
      "text/plain": [
       "{'context_precision': 0.5000, 'faithfulness': 0.5833, 'answer_relevancy': 0.9532, 'context_recall': 1.0000}"
      ]
     },
     "execution_count": 5,
     "metadata": {},
     "output_type": "execute_result"
    }
   ],
   "source": [
    "from ragas import evaluate\n",
    "\n",
    "result = evaluate(\n",
    "    my_dataset, \n",
    "    metrics=[\n",
    "        context_precision,\n",
    "        faithfulness,\n",
    "        answer_relevancy,\n",
    "        context_recall,\n",
    "    ],\n",
    ")\n",
    "\n",
    "result"
   ]
  },
  {
   "cell_type": "markdown",
   "metadata": {},
   "source": [
    "Если вы хотите углубиться в результаты и выявить примеры, когда ваш трубопровпайплайн работал плохо или исключительно хорошо, вы можете преобразовать его в pandas DataFrame и использовать свои стандартные инструменты аналитики!"
   ]
  },
  {
   "cell_type": "code",
   "execution_count": 6,
   "metadata": {},
   "outputs": [
    {
     "data": {
      "text/html": [
       "<div>\n",
       "<style scoped>\n",
       "    .dataframe tbody tr th:only-of-type {\n",
       "        vertical-align: middle;\n",
       "    }\n",
       "\n",
       "    .dataframe tbody tr th {\n",
       "        vertical-align: top;\n",
       "    }\n",
       "\n",
       "    .dataframe thead th {\n",
       "        text-align: right;\n",
       "    }\n",
       "</style>\n",
       "<table border=\"1\" class=\"dataframe\">\n",
       "  <thead>\n",
       "    <tr style=\"text-align: right;\">\n",
       "      <th></th>\n",
       "      <th>question</th>\n",
       "      <th>contexts</th>\n",
       "      <th>ground_truth</th>\n",
       "      <th>answer</th>\n",
       "      <th>context_precision</th>\n",
       "      <th>faithfulness</th>\n",
       "      <th>answer_relevancy</th>\n",
       "      <th>context_recall</th>\n",
       "    </tr>\n",
       "  </thead>\n",
       "  <tbody>\n",
       "    <tr>\n",
       "      <th>0</th>\n",
       "      <td>чем представлены органические остатки?</td>\n",
       "      <td>[В протерозойских отложениях органические оста...</td>\n",
       "      <td>известковыми выделениями сине-зелёных водорослей</td>\n",
       "      <td>Органические остатки могут быть представлены р...</td>\n",
       "      <td>0.0</td>\n",
       "      <td>0.166667</td>\n",
       "      <td>0.937413</td>\n",
       "      <td>1.0</td>\n",
       "    </tr>\n",
       "    <tr>\n",
       "      <th>1</th>\n",
       "      <td>что найдено в кремнистых сланцах железорудной ...</td>\n",
       "      <td>[В протерозойских отложениях органические оста...</td>\n",
       "      <td>нитевидные водоросли, грибные нити</td>\n",
       "      <td>В кремнистых сланцах железорудной формации Кан...</td>\n",
       "      <td>1.0</td>\n",
       "      <td>1.000000</td>\n",
       "      <td>0.968983</td>\n",
       "      <td>1.0</td>\n",
       "    </tr>\n",
       "  </tbody>\n",
       "</table>\n",
       "</div>"
      ],
      "text/plain": [
       "                                            question  \\\n",
       "0             чем представлены органические остатки?   \n",
       "1  что найдено в кремнистых сланцах железорудной ...   \n",
       "\n",
       "                                            contexts  \\\n",
       "0  [В протерозойских отложениях органические оста...   \n",
       "1  [В протерозойских отложениях органические оста...   \n",
       "\n",
       "                                       ground_truth  \\\n",
       "0  известковыми выделениями сине-зелёных водорослей   \n",
       "1                нитевидные водоросли, грибные нити   \n",
       "\n",
       "                                              answer  context_precision  \\\n",
       "0  Органические остатки могут быть представлены р...                0.0   \n",
       "1  В кремнистых сланцах железорудной формации Кан...                1.0   \n",
       "\n",
       "   faithfulness  answer_relevancy  context_recall  \n",
       "0      0.166667          0.937413             1.0  \n",
       "1      1.000000          0.968983             1.0  "
      ]
     },
     "execution_count": 6,
     "metadata": {},
     "output_type": "execute_result"
    }
   ],
   "source": [
    "df = result.to_pandas()\n",
    "df"
   ]
  },
  {
   "cell_type": "code",
   "execution_count": null,
   "metadata": {},
   "outputs": [],
   "source": []
  }
 ],
 "metadata": {
  "kernelspec": {
   "display_name": ".venv",
   "language": "python",
   "name": "python3"
  },
  "language_info": {
   "codemirror_mode": {
    "name": "ipython",
    "version": 3
   },
   "file_extension": ".py",
   "mimetype": "text/x-python",
   "name": "python",
   "nbconvert_exporter": "python",
   "pygments_lexer": "ipython3",
   "version": "3.12.3"
  }
 },
 "nbformat": 4,
 "nbformat_minor": 2
}
